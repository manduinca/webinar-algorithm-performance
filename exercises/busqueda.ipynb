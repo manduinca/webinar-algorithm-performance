{
 "cells": [
  {
   "cell_type": "markdown",
   "metadata": {},
   "source": [
    "### Búsqueda ####\n",
    "\n",
    "Dado N números enteros ordenados queremos encontrar la posición del número x.\n",
    "\n",
    "#### Solución O(n) ####"
   ]
  },
  {
   "cell_type": "code",
   "execution_count": null,
   "metadata": {},
   "outputs": [],
   "source": [
    "def search(a, x):\n",
    "    for i, e in enumerate(a):\n",
    "        if e == x:\n",
    "            return i\n",
    "    return -1"
   ]
  },
  {
   "cell_type": "code",
   "execution_count": null,
   "metadata": {},
   "outputs": [],
   "source": [
    "a = [1, 2, 3, 4, 7, 9, 12]\n",
    "\n",
    "print(search(a, 10))"
   ]
  },
  {
   "cell_type": "markdown",
   "metadata": {},
   "source": [
    "#### Solución O(log n) ####\n",
    "\n",
    "Aprovechando que los números están ordenados, podemos usar el algoritmo de búsqueda binaria."
   ]
  },
  {
   "cell_type": "code",
   "execution_count": null,
   "metadata": {},
   "outputs": [],
   "source": [
    "def binary_search(a, x):\n",
    "    hi = len(a) - 1\n",
    "    lo = 0\n",
    "    while lo <= hi:\n",
    "        mid = lo + (hi - lo) // 2\n",
    "        if x == a[mid]:\n",
    "            return mid\n",
    "        elif x > a[mid]:\n",
    "            lo = mid + 1\n",
    "        elif x < a[mid]:\n",
    "            hi = mid - 1\n",
    "    return -1"
   ]
  },
  {
   "cell_type": "code",
   "execution_count": null,
   "metadata": {},
   "outputs": [],
   "source": [
    "a = [1, 2, 3, 4, 7, 9, 12]\n",
    "\n",
    "print(binary_search(a, 4))"
   ]
  },
  {
   "cell_type": "markdown",
   "metadata": {},
   "source": [
    "Comparemos los algoritmos."
   ]
  },
  {
   "cell_type": "code",
   "execution_count": null,
   "metadata": {},
   "outputs": [],
   "source": [
    "import time\n",
    "\n",
    "a = [i for i in range(1, 100000000, 3)]"
   ]
  },
  {
   "cell_type": "code",
   "execution_count": null,
   "metadata": {},
   "outputs": [],
   "source": [
    "start = time.time()\n",
    "search(a, 3 * 87654321 + 1)\n",
    "end = time.time()\n",
    "print(\"search: \", end - start)\n",
    "\n",
    "start = time.time()\n",
    "binary_search(a, 3 * 87654321 + 1)\n",
    "end = time.time()\n",
    "print(\"binary search: \", end - start)"
   ]
  }
 ],
 "metadata": {
  "kernelspec": {
   "display_name": "Python 3",
   "language": "python",
   "name": "python3"
  },
  "language_info": {
   "codemirror_mode": {
    "name": "ipython",
    "version": 3
   },
   "file_extension": ".py",
   "mimetype": "text/x-python",
   "name": "python",
   "nbconvert_exporter": "python",
   "pygments_lexer": "ipython3",
   "version": "3.6.7"
  }
 },
 "nbformat": 4,
 "nbformat_minor": 2
}
