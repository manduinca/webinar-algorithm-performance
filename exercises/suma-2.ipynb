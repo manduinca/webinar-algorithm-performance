{
 "cells": [
  {
   "cell_type": "markdown",
   "metadata": {},
   "source": [
    "### Suma 2 ###\n",
    "\n",
    "Dado N distintos enteros, ¿cuantos pares de números suman cero?\n",
    "\n",
    "#### Solución (fuerza bruta) ####"
   ]
  },
  {
   "cell_type": "code",
   "execution_count": null,
   "metadata": {},
   "outputs": [],
   "source": [
    "def two_sum(a):\n",
    "    n = len(a)\n",
    "    count = 0\n",
    "    for i in range(n):\n",
    "        for j in range(i + 1, n):\n",
    "            if a[i] + a[j] == 0:\n",
    "                count += 1;\n",
    "    return count"
   ]
  },
  {
   "cell_type": "markdown",
   "metadata": {},
   "source": [
    "Una prueba. Para comprobar que el algoritmo funciona y además medimos el tiempo que toma en ejecutarse la función (en segundos)."
   ]
  },
  {
   "cell_type": "code",
   "execution_count": null,
   "metadata": {},
   "outputs": [],
   "source": [
    "import time\n",
    "\n",
    "a = [1, 3, 4, 5, -8, 0, -4, 8]\n",
    "\n",
    "start = time.time()\n",
    "print(\"Respuesta: \", two_sum(a))\n",
    "end = time.time()\n",
    "\n",
    "print(\"Tiempo: \", end - start)"
   ]
  },
  {
   "cell_type": "markdown",
   "metadata": {},
   "source": [
    "Muchas pruebas."
   ]
  },
  {
   "cell_type": "code",
   "execution_count": null,
   "metadata": {},
   "outputs": [],
   "source": [
    "import random\n",
    "\n",
    "print(\"  n  | tiempo(s)\\n\")\n",
    "for j in [250, 500, 1000, 2000, 4000, 8000, 16000]:\n",
    "    a = [random.randint(-1000, 1000) for i in range(j)]\n",
    "    start = time.time()\n",
    "    two_sum(a)\n",
    "    end = time.time()\n",
    "    print(\"{:<7} {:.3f}\".format(j, end - start))\n"
   ]
  }
 ],
 "metadata": {
  "kernelspec": {
   "display_name": "Python 3",
   "language": "python",
   "name": "python3"
  },
  "language_info": {
   "codemirror_mode": {
    "name": "ipython",
    "version": 3
   },
   "file_extension": ".py",
   "mimetype": "text/x-python",
   "name": "python",
   "nbconvert_exporter": "python",
   "pygments_lexer": "ipython3",
   "version": "3.6.7"
  }
 },
 "nbformat": 4,
 "nbformat_minor": 2
}
