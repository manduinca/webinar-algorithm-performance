{
 "cells": [
  {
   "cell_type": "markdown",
   "metadata": {},
   "source": [
    "### Ordenamiento ###\n",
    "\n",
    "Dado N enteros, devolverlos ordenados.\n",
    "\n",
    "#### Solución ineficiente ####\n",
    "\n",
    "El ordenamiento burbuja aunque muy estudiado en los cursos de algoritmos es de los más ineficientes."
   ]
  },
  {
   "cell_type": "code",
   "execution_count": null,
   "metadata": {},
   "outputs": [],
   "source": [
    "def buble_sort(a):\n",
    "    n = len(a)\n",
    "    for j in range(n):\n",
    "        for i in range(n - 1):\n",
    "            if a[i] > a[i + 1]:\n",
    "                a[i], a[i + 1] = a[i + 1], a[i]"
   ]
  },
  {
   "cell_type": "markdown",
   "metadata": {},
   "source": [
    "Veamos que tal funciona nuestro algoritmo."
   ]
  },
  {
   "cell_type": "code",
   "execution_count": null,
   "metadata": {},
   "outputs": [],
   "source": [
    "a = [4, 6, 2, 1, 8, 5]\n",
    "buble_sort(a)\n",
    "print(a)"
   ]
  },
  {
   "cell_type": "markdown",
   "metadata": {},
   "source": [
    "#### Solución eficiente ####\n",
    "\n",
    "El ordenamiento por mezcla es un algoritmo recursivo genial, de los más usados en las funciones sort de los lenguajes."
   ]
  },
  {
   "cell_type": "code",
   "execution_count": null,
   "metadata": {},
   "outputs": [],
   "source": [
    "def merge(a, aux, lo, mid, hi):\n",
    "    aux = a.copy()\n",
    "    i = lo; j = mid + 1\n",
    "    for k in range(lo, hi + 1):\n",
    "        if i > mid:\n",
    "            a[k] = aux[j]; j += 1\n",
    "        elif j > hi:\n",
    "            a[k] = aux[i]; i += 1\n",
    "        elif aux[j] < aux[i]:\n",
    "            a[k] = aux[j]; j += 1\n",
    "        else:\n",
    "            a[k] = aux[i]; i += 1\n",
    "\n",
    "def merge_sort(a, aux, lo, hi):\n",
    "    if hi <= lo:\n",
    "        return\n",
    "    mid = lo + (hi - lo) // 2\n",
    "    merge_sort(a, aux, lo, mid)\n",
    "    merge_sort(a, aux, mid + 1, hi)\n",
    "    merge(a, aux, lo, mid, hi)\n"
   ]
  },
  {
   "cell_type": "markdown",
   "metadata": {},
   "source": [
    "Veamos como funciona nuestra implementación de merge sort."
   ]
  },
  {
   "cell_type": "code",
   "execution_count": null,
   "metadata": {},
   "outputs": [],
   "source": [
    "a = [7, 5, 6, 4, 3, 8, 1]\n",
    "aux = a.copy()\n",
    "merge_sort(a, aux, 0, len(a) - 1)\n",
    "print(a)"
   ]
  },
  {
   "cell_type": "markdown",
   "metadata": {},
   "source": [
    "Ahora comparamos sus tiempos de ejecución, nos apoyaremos en el módulo **random** para generar listas aleatorias y en el módulo **time** para obtener el tiempo de ejecución en segundos."
   ]
  },
  {
   "cell_type": "code",
   "execution_count": null,
   "metadata": {},
   "outputs": [],
   "source": [
    "import random\n",
    "import time\n",
    "\n",
    "a = [random.randint(-1000, 1000) for i in range(10)]\n",
    "b = a.copy()\n",
    "\n",
    "start = time.time()\n",
    "buble_sort(a)\n",
    "end = time.time()\n",
    "print(\"Bubble sort: \", end - start)\n",
    "\n",
    "start = time.time()\n",
    "merge_sort(b, b.copy(), 0, len(b) - 1)\n",
    "end = time.time()\n",
    "print(\"Merge sort: \", end - start)"
   ]
  }
 ],
 "metadata": {
  "kernelspec": {
   "display_name": "Python 3",
   "language": "python",
   "name": "python3"
  },
  "language_info": {
   "codemirror_mode": {
    "name": "ipython",
    "version": 3
   },
   "file_extension": ".py",
   "mimetype": "text/x-python",
   "name": "python",
   "nbconvert_exporter": "python",
   "pygments_lexer": "ipython3",
   "version": "3.6.7"
  }
 },
 "nbformat": 4,
 "nbformat_minor": 2
}
