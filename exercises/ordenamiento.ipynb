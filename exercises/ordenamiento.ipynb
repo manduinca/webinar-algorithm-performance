{
 "cells": [
  {
   "cell_type": "markdown",
   "metadata": {},
   "source": [
    "### Ordenamiento ###\n",
    "\n",
    "Dado N enteros, devolverlos ordenados.\n",
    "\n",
    "#### Solución ineficiente ####"
   ]
  },
  {
   "cell_type": "code",
   "execution_count": null,
   "metadata": {},
   "outputs": [],
   "source": [
    "def buble_sort(a):\n",
    "    n = len(a)\n",
    "    for j in range(n):\n",
    "        for i in range(n - 1):\n",
    "            if a[i] > a[i + 1]:\n",
    "                a[i], a[i + 1] = a[i + 1], a[i]"
   ]
  },
  {
   "cell_type": "code",
   "execution_count": null,
   "metadata": {},
   "outputs": [],
   "source": [
    "a = [4, 6, 2, 1, 8, 5]\n",
    "buble_sort(a)\n",
    "print(a)"
   ]
  },
  {
   "cell_type": "markdown",
   "metadata": {},
   "source": [
    "#### Solución eficiente ####"
   ]
  },
  {
   "cell_type": "code",
   "execution_count": null,
   "metadata": {},
   "outputs": [],
   "source": [
    "def merge(a, aux, lo, mid, hi):\n",
    "    aux = a.copy()\n",
    "    i = lo; j = mid + 1\n",
    "    for k in range(lo, hi + 1):\n",
    "        if i > mid:\n",
    "            a[k] = aux[j]; j += 1\n",
    "        elif j > hi:\n",
    "            a[k] = aux[i]; i += 1\n",
    "        elif aux[j] < aux[i]:\n",
    "            a[k] = aux[j]; j += 1\n",
    "        else:\n",
    "            a[k] = aux[i]; i += 1\n",
    "\n",
    "def merge_sort(a, aux, lo, hi):\n",
    "    if hi <= lo:\n",
    "        return\n",
    "    mid = lo + (hi - lo) // 2\n",
    "    merge_sort(a, aux, lo, mid)\n",
    "    merge_sort(a, aux, mid + 1, hi)\n",
    "    merge(a, aux, lo, mid, hi)\n"
   ]
  },
  {
   "cell_type": "code",
   "execution_count": null,
   "metadata": {},
   "outputs": [],
   "source": [
    "a = [7, 5, 6, 4, 3, 8, 1]\n",
    "aux = a.copy()\n",
    "merge_sort(a, aux, 0, len(a) - 1)\n",
    "print(a)"
   ]
  }
 ],
 "metadata": {
  "kernelspec": {
   "display_name": "Python 3",
   "language": "python",
   "name": "python3"
  },
  "language_info": {
   "codemirror_mode": {
    "name": "ipython",
    "version": 3
   },
   "file_extension": ".py",
   "mimetype": "text/x-python",
   "name": "python",
   "nbconvert_exporter": "python",
   "pygments_lexer": "ipython3",
   "version": "3.6.7"
  }
 },
 "nbformat": 4,
 "nbformat_minor": 2
}
